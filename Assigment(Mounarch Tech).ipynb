{
 "cells": [
  {
   "cell_type": "code",
   "execution_count": 2,
   "id": "a28ff3c1-88f0-4d27-9cc3-e71382fa3635",
   "metadata": {},
   "outputs": [],
   "source": [
    "import cv2\n",
    "import os"
   ]
  },
  {
   "cell_type": "code",
   "execution_count": 4,
   "id": "66432e64-2671-40d3-adba-ba0724344780",
   "metadata": {},
   "outputs": [],
   "source": [
    "#Path to video file (use raw string or forward slashes):\n",
    "video_path = r\"C:\\Users\\sahil\\Desktop\\Assigment(Mounrach Tech Solution & System Pvt.Ltd)\\Karad.mp4\""
   ]
  },
  {
   "cell_type": "code",
   "execution_count": 6,
   "id": "a9d2802b-9a71-4a7c-82e4-7fcb3d29f09b",
   "metadata": {},
   "outputs": [],
   "source": [
    "output_dir = r\"C:\\Users\\sahil\\Desktop\\Assigment(Mounrach Tech Solution & System Pvt.Ltd)\\dataset_images\\class1\""
   ]
  },
  {
   "cell_type": "code",
   "execution_count": 8,
   "id": "91a80f2d-a2da-4cfd-8c0f-358eb84828a4",
   "metadata": {},
   "outputs": [],
   "source": [
    "#Create directory if it doesn't exist:\n",
    "os.makedirs(output_dir, exist_ok=True)"
   ]
  },
  {
   "cell_type": "code",
   "execution_count": 10,
   "id": "822c558a-2a17-4f4e-90da-58706c89ce88",
   "metadata": {},
   "outputs": [
    {
     "name": "stdout",
     "output_type": "stream",
     "text": [
      "Successfully saved 19854 frames to C:\\Users\\sahil\\Desktop\\Assigment(Mounrach Tech Solution & System Pvt.Ltd)\\dataset_images\\class1\n"
     ]
    }
   ],
   "source": [
    "#Open video file:\n",
    "cap = cv2.VideoCapture(video_path)\n",
    "if not cap.isOpened():\n",
    "    raise ValueError(f\"Could not open video at {video_path}\")\n",
    "\n",
    "count = 0\n",
    "while True:\n",
    "    ret, frame = cap.read()\n",
    "    if not ret:\n",
    "        break\n",
    "    \n",
    "    # Save frame as JPEG\n",
    "    output_path = os.path.join(output_dir, f\"frame_{count:04d}.jpg\")  # 4-digit numbering\n",
    "    success = cv2.imwrite(output_path, frame)\n",
    "    if not success:\n",
    "        print(f\"Warning: Failed to save frame {count}\")\n",
    "    count += 1\n",
    "\n",
    "cap.release()\n",
    "print(f\"Successfully saved {count} frames to {output_dir}\")"
   ]
  },
  {
   "cell_type": "code",
   "execution_count": null,
   "id": "6a018cb8-8ccb-46d0-aff6-4313e07b8072",
   "metadata": {},
   "outputs": [],
   "source": []
  },
  {
   "cell_type": "markdown",
   "id": "9c1df83f-1ef5-4b38-ab07-58b0ea63aba0",
   "metadata": {},
   "source": [
    "# Image Cleaning & Preprocessing:"
   ]
  },
  {
   "cell_type": "code",
   "execution_count": 12,
   "id": "9c8798d1-1b83-4b53-b52d-313bd48ab9be",
   "metadata": {},
   "outputs": [],
   "source": [
    "import tensorflow as tf\n",
    "from tensorflow.keras.preprocessing.image import ImageDataGenerator"
   ]
  },
  {
   "cell_type": "code",
   "execution_count": 14,
   "id": "17458bdd-d925-4b53-9536-1d326d841c29",
   "metadata": {},
   "outputs": [
    {
     "name": "stdout",
     "output_type": "stream",
     "text": [
      "Found 19854 images belonging to 1 classes.\n"
     ]
    }
   ],
   "source": [
    "datagen = ImageDataGenerator(rescale=1./255)\n",
    "\n",
    "train_data = datagen.flow_from_directory(\n",
    "    r\"C:\\Users\\sahil\\Desktop\\Assigment(Mounrach Tech Solution & System Pvt.Ltd)\\dataset_images\",\n",
    "    target_size=(128, 128),\n",
    "    batch_size=32,\n",
    "    class_mode='categorical'    #or 'binary'\n",
    ")"
   ]
  },
  {
   "cell_type": "code",
   "execution_count": null,
   "id": "b7dab490-4c04-4e74-b982-63e6f8df3b61",
   "metadata": {},
   "outputs": [],
   "source": []
  },
  {
   "cell_type": "markdown",
   "id": "16cbdaf7-6731-4bbf-8ada-5beb757c02fe",
   "metadata": {},
   "source": [
    "# Build a CNN from Scratch:"
   ]
  },
  {
   "cell_type": "code",
   "execution_count": 16,
   "id": "2f0a6de4-095a-488e-8878-7742b715f874",
   "metadata": {},
   "outputs": [],
   "source": [
    "from tensorflow.keras.models import Sequential\n",
    "from tensorflow.keras.layers import Conv2D, MaxPooling2D, Flatten, Dense"
   ]
  },
  {
   "cell_type": "code",
   "execution_count": 26,
   "id": "e75a90c8-6e04-4225-ab02-06845542a313",
   "metadata": {},
   "outputs": [],
   "source": [
    "model = Sequential([\n",
    "    Conv2D(32, (3,3), activation='relu', input_shape=(128, 128, 3)),\n",
    "    MaxPooling2D(2,2),\n",
    "    Conv2D(64, (3,3), activation='relu'),\n",
    "    MaxPooling2D(2,2),\n",
    "    Flatten(),\n",
    "    Dense(64, activation='relu'),\n",
    "    Dense(1, activation='sigmoid')  # Changed to 1 neuron with sigmoid\n",
    "])\n",
    "\n",
    "model.compile(optimizer='adam',\n",
    "              loss='binary_crossentropy',  # Changed loss function\n",
    "              metrics=['accuracy'])"
   ]
  },
  {
   "cell_type": "code",
   "execution_count": 24,
   "id": "ceda7909-6995-4361-8339-8287c76fa336",
   "metadata": {},
   "outputs": [
    {
     "name": "stdout",
     "output_type": "stream",
     "text": [
      "Collecting Pillow\n",
      "  Using cached pillow-11.2.1-cp311-cp311-win_amd64.whl.metadata (9.1 kB)\n",
      "Using cached pillow-11.2.1-cp311-cp311-win_amd64.whl (2.7 MB)\n",
      "Installing collected packages: Pillow\n",
      "Successfully installed Pillow-11.2.1\n",
      "Note: you may need to restart the kernel to use updated packages.\n"
     ]
    }
   ],
   "source": [
    "pip install Pillow --upgrade"
   ]
  },
  {
   "cell_type": "code",
   "execution_count": null,
   "id": "64ea8263-1e4e-4f0c-9d6b-2bd85db1fb33",
   "metadata": {},
   "outputs": [],
   "source": [
    "from PIL import Image\n",
    "print(\"Pillow is installed successfully!\")"
   ]
  },
  {
   "cell_type": "code",
   "execution_count": null,
   "id": "cfe4bc65-22ce-4cc4-af9a-6519dc82cc84",
   "metadata": {},
   "outputs": [],
   "source": []
  },
  {
   "cell_type": "markdown",
   "id": "4cea59bf-6688-4fb4-852c-60dc990ff6d7",
   "metadata": {},
   "source": [
    "# Train and Evaluate the Model:"
   ]
  },
  {
   "cell_type": "code",
   "execution_count": 28,
   "id": "a47be32d-3cae-499e-83c5-dc4b7ed05884",
   "metadata": {},
   "outputs": [
    {
     "name": "stdout",
     "output_type": "stream",
     "text": [
      "Epoch 1/10\n"
     ]
    },
    {
     "name": "stderr",
     "output_type": "stream",
     "text": [
      "C:\\Users\\sahil\\anaconda3\\Lib\\site-packages\\keras\\src\\trainers\\data_adapters\\py_dataset_adapter.py:121: UserWarning: Your `PyDataset` class should call `super().__init__(**kwargs)` in its constructor. `**kwargs` can include `workers`, `use_multiprocessing`, `max_queue_size`. Do not pass these arguments to `fit()`, as they will be ignored.\n",
      "  self._warn_if_super_not_called()\n"
     ]
    },
    {
     "name": "stdout",
     "output_type": "stream",
     "text": [
      "\u001b[1m621/621\u001b[0m \u001b[32m━━━━━━━━━━━━━━━━━━━━\u001b[0m\u001b[37m\u001b[0m \u001b[1m272s\u001b[0m 432ms/step - accuracy: 0.9894 - loss: 0.0080\n",
      "Epoch 2/10\n",
      "\u001b[1m621/621\u001b[0m \u001b[32m━━━━━━━━━━━━━━━━━━━━\u001b[0m\u001b[37m\u001b[0m \u001b[1m272s\u001b[0m 434ms/step - accuracy: 1.0000 - loss: 1.6748e-37\n",
      "Epoch 3/10\n",
      "\u001b[1m621/621\u001b[0m \u001b[32m━━━━━━━━━━━━━━━━━━━━\u001b[0m\u001b[37m\u001b[0m \u001b[1m291s\u001b[0m 465ms/step - accuracy: 1.0000 - loss: 2.0429e-37\n",
      "Epoch 4/10\n",
      "\u001b[1m621/621\u001b[0m \u001b[32m━━━━━━━━━━━━━━━━━━━━\u001b[0m\u001b[37m\u001b[0m \u001b[1m272s\u001b[0m 434ms/step - accuracy: 1.0000 - loss: 1.7590e-37\n",
      "Epoch 5/10\n",
      "\u001b[1m621/621\u001b[0m \u001b[32m━━━━━━━━━━━━━━━━━━━━\u001b[0m\u001b[37m\u001b[0m \u001b[1m277s\u001b[0m 442ms/step - accuracy: 1.0000 - loss: 1.8100e-37\n",
      "Epoch 6/10\n",
      "\u001b[1m621/621\u001b[0m \u001b[32m━━━━━━━━━━━━━━━━━━━━\u001b[0m\u001b[37m\u001b[0m \u001b[1m276s\u001b[0m 440ms/step - accuracy: 1.0000 - loss: 1.6406e-37\n",
      "Epoch 7/10\n",
      "\u001b[1m621/621\u001b[0m \u001b[32m━━━━━━━━━━━━━━━━━━━━\u001b[0m\u001b[37m\u001b[0m \u001b[1m274s\u001b[0m 437ms/step - accuracy: 1.0000 - loss: 1.8747e-37\n",
      "Epoch 8/10\n",
      "\u001b[1m621/621\u001b[0m \u001b[32m━━━━━━━━━━━━━━━━━━━━\u001b[0m\u001b[37m\u001b[0m \u001b[1m274s\u001b[0m 438ms/step - accuracy: 1.0000 - loss: 1.4837e-37\n",
      "Epoch 9/10\n",
      "\u001b[1m621/621\u001b[0m \u001b[32m━━━━━━━━━━━━━━━━━━━━\u001b[0m\u001b[37m\u001b[0m \u001b[1m299s\u001b[0m 478ms/step - accuracy: 1.0000 - loss: 1.7630e-37\n",
      "Epoch 10/10\n",
      "\u001b[1m621/621\u001b[0m \u001b[32m━━━━━━━━━━━━━━━━━━━━\u001b[0m\u001b[37m\u001b[0m \u001b[1m284s\u001b[0m 455ms/step - accuracy: 1.0000 - loss: 1.6591e-37\n"
     ]
    }
   ],
   "source": [
    "history = model.fit(train_data, epochs=10)"
   ]
  },
  {
   "cell_type": "code",
   "execution_count": null,
   "id": "4cc21ddc-5ea2-46cf-835b-5aabc05fb384",
   "metadata": {},
   "outputs": [],
   "source": []
  }
 ],
 "metadata": {
  "kernelspec": {
   "display_name": "Python 3 (ipykernel)",
   "language": "python",
   "name": "python3"
  },
  "language_info": {
   "codemirror_mode": {
    "name": "ipython",
    "version": 3
   },
   "file_extension": ".py",
   "mimetype": "text/x-python",
   "name": "python",
   "nbconvert_exporter": "python",
   "pygments_lexer": "ipython3",
   "version": "3.11.9"
  }
 },
 "nbformat": 4,
 "nbformat_minor": 5
}
